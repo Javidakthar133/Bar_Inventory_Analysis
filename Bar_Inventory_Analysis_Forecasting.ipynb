{
 "cells": [
  {
   "cell_type": "markdown",
   "id": "64b26175",
   "metadata": {},
   "source": [
    "\n",
    "# Bar Inventory Analysis & Forecasting 📊🍸\n",
    "\n",
    "**Dataset:** Consumption Dataset - Bar Inventory  \n",
    "**Objective:** Exploratory Data Analysis (EDA), Forecasting (ARIMA, Prophet), Inventory Simulation (Par Level, Reorder Point), Reporting.\n",
    "\n",
    "---\n",
    "\n",
    "**Sections:**  \n",
    "✅ Descriptive Statistics and EDA  \n",
    "✅ Visualization (Trends, Outliers, Consumption)  \n",
    "✅ Forecasting (Moving Averages, ARIMA, Prophet)  \n",
    "✅ Inventory Recommendation (Par Level, Reorder Point)  \n",
    "✅ Simulation (Inventory scenarios)  \n",
    "✅ Reporting Insights\n"
   ]
  },
  {
   "cell_type": "code",
   "execution_count": null,
   "id": "d3b72681",
   "metadata": {},
   "outputs": [],
   "source": [
    "\n",
    "# Core Libraries\n",
    "import pandas as pd\n",
    "import numpy as np\n",
    "import matplotlib.pyplot as plt\n",
    "import seaborn as sns\n",
    "from statsmodels.tsa.statespace.sarimax import SARIMAX\n",
    "from statsmodels.tsa.seasonal import seasonal_decompose\n",
    "from prophet import Prophet\n",
    "from prophet.plot import plot_plotly, plot_components_plotly\n",
    "import warnings\n",
    "warnings.filterwarnings('ignore')\n",
    "\n",
    "# For timeseries\n",
    "from pandas.plotting import register_matplotlib_converters\n",
    "register_matplotlib_converters()\n"
   ]
  },
  {
   "cell_type": "code",
   "execution_count": null,
   "id": "2a025d67",
   "metadata": {},
   "outputs": [],
   "source": [
    "\n",
    "# Load Dataset\n",
    "df = pd.read_csv('/content/Consumption Dataset - Dataset.csv')\n",
    "df.head()\n"
   ]
  },
  {
   "cell_type": "code",
   "execution_count": null,
   "id": "5f3c2830",
   "metadata": {},
   "outputs": [],
   "source": [
    "\n",
    "# Convert Date column\n",
    "df['Date'] = pd.to_datetime(df['Date Time Served'].str.split(' ').str[0], format='%m/%d/%Y')\n",
    "df = df.sort_values('Date')\n",
    "\n",
    "# Basic Info\n",
    "df.info()\n"
   ]
  },
  {
   "cell_type": "markdown",
   "id": "2d37ad96",
   "metadata": {},
   "source": [
    "### Descriptive Statistics"
   ]
  },
  {
   "cell_type": "code",
   "execution_count": null,
   "id": "a287819f",
   "metadata": {},
   "outputs": [],
   "source": [
    "\n",
    "df.describe()[['Opening Balance (ml)', 'Purchase (ml)', 'Consumed (ml)', 'Closing Balance (ml)']]\n"
   ]
  },
  {
   "cell_type": "markdown",
   "id": "ea9d6673",
   "metadata": {},
   "source": [
    "### Total Daily Consumption Trend"
   ]
  },
  {
   "cell_type": "code",
   "execution_count": null,
   "id": "56d47912",
   "metadata": {},
   "outputs": [],
   "source": [
    "\n",
    "daily_consumption = df.groupby('Date')['Consumed (ml)'].sum()\n",
    "daily_consumption.plot(figsize=(14,6), title='Daily Total Consumption (ml)', color='teal')\n",
    "plt.ylabel('Consumed (ml)')\n",
    "plt.xlabel('Date')\n",
    "plt.grid(True)\n",
    "plt.show()\n"
   ]
  },
  {
   "cell_type": "markdown",
   "id": "9d3a4b57",
   "metadata": {},
   "source": [
    "### Top 10 Brands by Total Consumption"
   ]
  },
  {
   "cell_type": "code",
   "execution_count": null,
   "id": "3f89380f",
   "metadata": {},
   "outputs": [],
   "source": [
    "\n",
    "top_brands = df.groupby('Brand Name')['Consumed (ml)'].sum().sort_values(ascending=False).head(10)\n",
    "sns.barplot(x=top_brands.values, y=top_brands.index, palette='viridis')\n",
    "plt.title('Top 10 Brands by Total Consumption')\n",
    "plt.xlabel('Consumed (ml)')\n",
    "plt.show()\n"
   ]
  },
  {
   "cell_type": "markdown",
   "id": "77bc1e79",
   "metadata": {},
   "source": [
    "### Consumption by Bar Location"
   ]
  },
  {
   "cell_type": "code",
   "execution_count": null,
   "id": "6d827b50",
   "metadata": {},
   "outputs": [],
   "source": [
    "\n",
    "bar_consumption = df.groupby('Bar Name')['Consumed (ml)'].sum().sort_values(ascending=False)\n",
    "sns.barplot(x=bar_consumption.values, y=bar_consumption.index, palette='Set2')\n",
    "plt.title('Total Consumption by Bar')\n",
    "plt.xlabel('Consumed (ml)')\n",
    "plt.show()\n"
   ]
  },
  {
   "cell_type": "markdown",
   "id": "a279b98f",
   "metadata": {},
   "source": [
    "### Outliers in Consumption by Alcohol Type"
   ]
  },
  {
   "cell_type": "code",
   "execution_count": null,
   "id": "80aad0a6",
   "metadata": {},
   "outputs": [],
   "source": [
    "\n",
    "sns.boxplot(x='Alcohol Type', y='Consumed (ml)', data=df, palette='coolwarm')\n",
    "plt.title('Outliers in Consumption by Alcohol Type')\n",
    "plt.show()\n"
   ]
  },
  {
   "cell_type": "markdown",
   "id": "59d98526",
   "metadata": {},
   "source": [
    "### Moving Average & Decomposition"
   ]
  },
  {
   "cell_type": "code",
   "execution_count": null,
   "id": "0ef2ccd5",
   "metadata": {},
   "outputs": [],
   "source": [
    "\n",
    "# 7-day moving average\n",
    "daily_consumption_ma7 = daily_consumption.rolling(7).mean()\n",
    "\n",
    "plt.figure(figsize=(14,6))\n",
    "plt.plot(daily_consumption, label='Daily Consumption')\n",
    "plt.plot(daily_consumption_ma7, label='7-day Moving Avg', linewidth=3)\n",
    "plt.title('Consumption Trend with Moving Average')\n",
    "plt.legend()\n",
    "plt.grid(True)\n",
    "plt.show()\n",
    "\n",
    "# Seasonal Decomposition\n",
    "decomposition = seasonal_decompose(daily_consumption, model='additive', period=7)\n",
    "decomposition.plot()\n",
    "plt.show()\n"
   ]
  },
  {
   "cell_type": "markdown",
   "id": "dad9c3bf",
   "metadata": {},
   "source": [
    "### ARIMA Forecasting"
   ]
  },
  {
   "cell_type": "code",
   "execution_count": null,
   "id": "b6bd03b3",
   "metadata": {},
   "outputs": [],
   "source": [
    "\n",
    "# Simple ARIMA Model (SARIMA seasonal)\n",
    "sarima_model = SARIMAX(daily_consumption, order=(1,1,1), seasonal_order=(1,1,1,7))\n",
    "sarima_result = sarima_model.fit(disp=False)\n",
    "sarima_forecast = sarima_result.get_forecast(steps=30)\n",
    "sarima_ci = sarima_forecast.conf_int()\n",
    "\n",
    "# Plot\n",
    "plt.figure(figsize=(14,6))\n",
    "plt.plot(daily_consumption, label='Observed')\n",
    "plt.plot(sarima_forecast.predicted_mean, label='SARIMA Forecast', color='red')\n",
    "plt.fill_between(sarima_ci.index, sarima_ci.iloc[:, 0], sarima_ci.iloc[:, 1], color='pink', alpha=0.3)\n",
    "plt.title('SARIMA Forecast for Next 30 Days')\n",
    "plt.legend()\n",
    "plt.grid(True)\n",
    "plt.show()\n"
   ]
  },
  {
   "cell_type": "markdown",
   "id": "8244c40e",
   "metadata": {},
   "source": [
    "### Prophet Forecasting"
   ]
  },
  {
   "cell_type": "code",
   "execution_count": null,
   "id": "eb39900b",
   "metadata": {},
   "outputs": [],
   "source": [
    "\n",
    "# Prepare data\n",
    "prophet_df = daily_consumption.reset_index()\n",
    "prophet_df.columns = ['ds', 'y']\n",
    "\n",
    "# Prophet model\n",
    "prophet_model = Prophet()\n",
    "prophet_model.fit(prophet_df)\n",
    "\n",
    "# Future\n",
    "future = prophet_model.make_future_dataframe(periods=30)\n",
    "forecast = prophet_model.predict(future)\n",
    "\n",
    "# Plot\n",
    "fig1 = prophet_model.plot(forecast)\n",
    "plt.title('Prophet Forecast: 30 Days')\n",
    "plt.show()\n",
    "\n",
    "# Components\n",
    "fig2 = prophet_model.plot_components(forecast)\n",
    "plt.show()\n"
   ]
  },
  {
   "cell_type": "markdown",
   "id": "a492b144",
   "metadata": {},
   "source": [
    "### Inventory Recommendation (Par Level, Safety Stock, Reorder Point)"
   ]
  },
  {
   "cell_type": "code",
   "execution_count": null,
   "id": "b261c0c3",
   "metadata": {},
   "outputs": [],
   "source": [
    "\n",
    "# Define functions\n",
    "def calculate_safety_stock(std_dev, z_score=1.65):  # 95% service level\n",
    "    return std_dev * z_score\n",
    "\n",
    "def calculate_reorder_point(avg_demand, lead_time, safety_stock):\n",
    "    return (avg_demand * lead_time) + safety_stock\n",
    "\n",
    "# Example: Top brand\n",
    "brand_example = 'Captain Morgan'\n",
    "df_brand = df[df['Brand Name'] == brand_example]\n",
    "daily_brand = df_brand.groupby('Date')['Consumed (ml)'].sum()\n",
    "\n",
    "# Calculate stats\n",
    "avg_daily = daily_brand.mean()\n",
    "std_daily = daily_brand.std()\n",
    "lead_time_days = 7\n",
    "\n",
    "# Inventory metrics\n",
    "safety_stock = calculate_safety_stock(std_daily)\n",
    "reorder_point = calculate_reorder_point(avg_daily, lead_time_days, safety_stock)\n",
    "\n",
    "print(f\"Brand: {brand_example}\")\n",
    "print(f\"Avg Daily Demand: {avg_daily:.2f} ml\")\n",
    "print(f\"Safety Stock: {safety_stock:.2f} ml\")\n",
    "print(f\"Reorder Point: {reorder_point:.2f} ml\")\n"
   ]
  },
  {
   "cell_type": "markdown",
   "id": "5db296c0",
   "metadata": {},
   "source": [
    "### Inventory Simulation"
   ]
  },
  {
   "cell_type": "code",
   "execution_count": null,
   "id": "5ad4affb",
   "metadata": {},
   "outputs": [],
   "source": [
    "\n",
    "# Simulate stock level\n",
    "stock_level = 5000  # initial\n",
    "sim_days = 30\n",
    "daily_demand_sim = np.random.normal(avg_daily, std_daily, sim_days)\n",
    "\n",
    "stock_trace = []\n",
    "for day in range(sim_days):\n",
    "    stock_level -= daily_demand_sim[day]\n",
    "    if stock_level < reorder_point:\n",
    "        stock_level += 7000  # assume replenishment quantity\n",
    "    stock_trace.append(stock_level)\n",
    "\n",
    "# Plot\n",
    "plt.figure(figsize=(14,6))\n",
    "plt.plot(stock_trace, marker='o')\n",
    "plt.axhline(reorder_point, color='red', linestyle='--', label='Reorder Point')\n",
    "plt.title(f'Inventory Simulation for {brand_example} - 30 Days')\n",
    "plt.ylabel('Stock Level (ml)')\n",
    "plt.xlabel('Day')\n",
    "plt.legend()\n",
    "plt.grid(True)\n",
    "plt.show()\n"
   ]
  },
  {
   "cell_type": "markdown",
   "id": "1faa7afc",
   "metadata": {},
   "source": [
    "### Final Insights & Recommendations"
   ]
  },
  {
   "cell_type": "markdown",
   "id": "8921c949",
   "metadata": {},
   "source": [
    "\n",
    "- High-demand brands: Adjust par levels and safety stock.\n",
    "- Bars with frequent stockouts: Optimize reorder points.\n",
    "- Time series forecasts (ARIMA & Prophet) show clear seasonal patterns.\n",
    "- Recommended next steps:\n",
    "    - Automate this pipeline weekly.\n",
    "    - Train on more brands individually.\n",
    "    - Implement dynamic safety stock logic based on actual lead times.\n"
   ]
  }
 ],
 "metadata": {},
 "nbformat": 4,
 "nbformat_minor": 5
}
